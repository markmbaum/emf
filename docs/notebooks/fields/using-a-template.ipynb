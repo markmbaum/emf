{
 "cells": [
  {
   "cell_type": "markdown",
   "metadata": {},
   "source": [
    "This notebook gives some examples of how to use the `emf.fields` template file. For larger modeling efforts, using a template file makes it easy to store data in a readable format and quickly get results. Template files can be generated with the `emf.fields.drop_template` function."
   ]
  },
  {
   "cell_type": "code",
   "execution_count": 1,
   "metadata": {
    "collapsed": true
   },
   "outputs": [],
   "source": [
    "#import fields\n",
    "import emf.fields as fld\n",
    "#special command for the notebook to show plots inline\n",
    "%matplotlib inline"
   ]
  },
  {
   "cell_type": "markdown",
   "metadata": {},
   "source": [
    "In the least Python-intensive scenario, we want `emf.fields` to perform EMF calculations for each cross section and export the results, without manipulating the cross sections on the Python side. Our template file is named \"template-example.xlsx\" and it contains 5 pairs of cross sections. It's in the same directory as this notebook. Each pair of cross sections consists of an \"existing\" and a \"proposed\" wire configuration. A boatload of results can be generated with one line:"
   ]
  },
  {
   "cell_type": "code",
   "execution_count": 2,
   "metadata": {
    "collapsed": false
   },
   "outputs": [
    {
     "name": "stdout",
     "output_type": "stream",
     "text": [
      "Full SectionBook results written to: template-example-all_results.xlsx\n",
      "Maximum fields at ROW edges written to: template-example-ROW_edge_results.csv\n",
      "plot saved to: 1E.png\n",
      "plot saved to: 1P.png\n",
      "plot saved to: 2E.png\n",
      "plot saved to: 2P.png\n",
      "plot saved to: 3E.png\n",
      "plot saved to: 3P.png\n",
      "plot saved to: 4E.png\n",
      "plot saved to: 4P.png\n",
      "plot saved to: 5E.png\n",
      "plot saved to: 5P.png\n",
      "plot saved to: group_1-Bmax.png\n",
      "plot saved to: group_1-Emax.png\n",
      "plot saved to: group_2-Bmax.png\n",
      "plot saved to: group_2-Emax.png\n",
      "plot saved to: group_3-Bmax.png\n",
      "plot saved to: group_3-Emax.png\n",
      "plot saved to: group_4-Bmax.png\n",
      "plot saved to: group_4-Emax.png\n",
      "plot saved to: group_5-Bmax.png\n",
      "plot saved to: group_5-Emax.png\n",
      "plot saved to: group_1-ROW-Bmax.png\n",
      "plot saved to: group_1-ROW-Emax.png\n",
      "plot saved to: group_2-ROW-Bmax.png\n",
      "plot saved to: group_2-ROW-Emax.png\n",
      "plot saved to: group_3-ROW-Bmax.png\n",
      "plot saved to: group_3-ROW-Emax.png\n",
      "plot saved to: group_4-ROW-Bmax.png\n",
      "plot saved to: group_4-ROW-Emax.png\n",
      "plot saved to: group_5-ROW-Bmax.png\n",
      "plot saved to: group_5-ROW-Emax.png\n"
     ]
    },
    {
     "data": {
      "text/plain": [
       "<emf.fields.fields_class.SectionBook at 0x8f7ad10>"
      ]
     },
     "execution_count": 2,
     "metadata": {},
     "output_type": "execute_result"
    }
   ],
   "source": [
    "fld.run('template-example')"
   ]
  },
  {
   "cell_type": "markdown",
   "metadata": {
    "collapsed": true
   },
   "source": [
    "The `run` function loads a template file into a `SectionBook` object, which automatically calculates EMF for each cross section, and exports an bunch of files detailing the results.\n",
    "* The first file is an excel book with a sheet for each cross section in the template. Each sheet contains a table of the fields across the cross section, including all components of the fields (x, y, prod, max).\n",
    "* The second file is a csv showing the electric and magnetic fields at each cross section's ROW edges, for quick reference.\n",
    "* The first chunk of plots shows the EMF across each cross section individually.\n",
    "* The second chunk of plots compares EMF across cross sections in the same group.\n",
    "* The last chunk of plots compares EMF at the ROW edges of cross sections in the same group.\n",
    "\n",
    "Using the template, most modeling needs can be satisfied with only two lines of Python. At the very least, all of the results are now available, so that somebody who doesn't want to continue using Python can import the results elsewhere."
   ]
  },
  {
   "cell_type": "markdown",
   "metadata": {},
   "source": [
    "If some more sophisticated modeling needs to be done, like phase optimization or height adjustments, the template can be loaded into a SectionBook object without exporting any results:"
   ]
  },
  {
   "cell_type": "code",
   "execution_count": 3,
   "metadata": {
    "collapsed": false
   },
   "outputs": [
    {
     "name": "stdout",
     "output_type": "stream",
     "text": [
      "  SectionBook object\n",
      "      name:          'template-example'\n",
      "      sheets:        u'1E', u'1P', u'2E', u'2P', u'3E', u'3P', u'4E',\n",
      "                     u'4P', u'5E', u'5P'\n",
      "      unique groups: 1, 2, 3, 4, 5\n",
      "\n",
      "    maximum fields at CrossSection ROW edges:\n",
      "               Bmaxl       Bmaxr     Emaxl      Emaxr\n",
      "      1E  134.052280  134.052280  2.030932   2.225216\n",
      "      1P  109.021572   77.842305  1.958862   1.192432\n",
      "      2E   80.772225   69.455753  1.980865  10.195164\n",
      "      2P   15.742948   15.530776  0.162674   0.105692\n",
      "      3E   27.859904   17.226625  0.209432   0.326077\n",
      "      3P   27.505621   11.059402  0.951084   0.148511\n",
      "      4E   19.245370   23.416652  0.586958   0.664823\n",
      "      4P   10.645579   12.492335  0.446610   0.493929\n",
      "      5E  528.396377  707.636292  4.586491   2.202178\n",
      "      5P  238.057578   72.800111  1.536574   0.108515\n"
     ]
    }
   ],
   "source": [
    "sb = fld.load_template('template-example')\n",
    "\n",
    "print(sb)"
   ]
  },
  {
   "cell_type": "markdown",
   "metadata": {},
   "source": [
    "Now the cross sections can be manipulated in any way necessary. As a fairly trivial example, if we want to raise the wires in all of the cross sections by 10 feet, we can:"
   ]
  },
  {
   "cell_type": "code",
   "execution_count": 4,
   "metadata": {
    "collapsed": false
   },
   "outputs": [
    {
     "name": "stdout",
     "output_type": "stream",
     "text": [
      "         Bmaxl       Bmaxr     Emaxl     Emaxr\n",
      "1E   96.680289   96.680289  1.460467  1.606760\n",
      "1P   73.898568   54.082741  1.426381  0.783360\n",
      "2E   64.835717   56.873740  1.393628  7.830769\n",
      "2P   12.631474   13.169491  0.131774  0.234142\n",
      "3E   16.838336   12.277576  0.083403  0.286242\n",
      "3P   17.022484    8.989909  0.523006  0.169085\n",
      "4E   13.997742   16.988055  0.412270  0.495862\n",
      "4P    7.381032    8.907009  0.357180  0.363211\n",
      "5E  333.055666  434.633500  3.151184  1.812570\n",
      "5P  209.446075   61.713195  1.637574  0.143475\n"
     ]
    }
   ],
   "source": [
    "#iterating over a SectionBook yields the CrossSections in it\n",
    "for xs in sb:\n",
    "    #iterating over a CrossSection yields the Conductors in it\n",
    "    for c in xs:\n",
    "        #add 10 ft to each Conductor's y coordinate\n",
    "        c.y += 10\n",
    "        \n",
    "print sb.ROW_edge_max"
   ]
  },
  {
   "cell_type": "markdown",
   "metadata": {},
   "source": [
    "The maximum fields at the ROW edges of all the CrossSections have generally decreased because the wires are higher."
   ]
  }
 ],
 "metadata": {
  "kernelspec": {
   "display_name": "Python 2",
   "language": "python",
   "name": "python2"
  },
  "language_info": {
   "codemirror_mode": {
    "name": "ipython",
    "version": 2
   },
   "file_extension": ".py",
   "mimetype": "text/x-python",
   "name": "python",
   "nbconvert_exporter": "python",
   "pygments_lexer": "ipython2",
   "version": "2.7.11"
  }
 },
 "nbformat": 4,
 "nbformat_minor": 0
}
