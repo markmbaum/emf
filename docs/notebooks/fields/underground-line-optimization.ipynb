{
 "cells": [
  {
   "cell_type": "code",
   "execution_count": 1,
   "metadata": {
    "collapsed": false
   },
   "outputs": [],
   "source": [
    "import emf.fields as fld"
   ]
  },
  {
   "cell_type": "code",
   "execution_count": 2,
   "metadata": {
    "collapsed": false
   },
   "outputs": [
    {
     "name": "stdout",
     "output_type": "stream",
     "text": [
      "  Conductor object\n",
      "    name:                    '1a'\n",
      "    parent CrossSection:     None\n",
      "    frequency (Hz):          60.0\n",
      "    x coordinate (ft):       -0.5\n",
      "    y coordinate (ft):       -3.0\n",
      "    subconductors:           1\n",
      "    conductor diameter (in): 1.0\n",
      "    bundle diameter (in):    1.0\n",
      "    voltage (V):             345.0\n",
      "    current (I):             247.0\n",
      "    phase angle (deg):       0.0\n"
     ]
    }
   ],
   "source": [
    "c1 = fld.Conductor('1a', dict(x=-.5, y=-3, d_cond=1, V=345, I=247, phase=0))\n",
    "print c1"
   ]
  },
  {
   "cell_type": "code",
   "execution_count": 3,
   "metadata": {
    "collapsed": true
   },
   "outputs": [],
   "source": [
    "c2 = fld.Conductor('1b', {'y': -3.5, 'phase': 120}, c1)\n",
    "\n",
    "c3 = fld.Conductor('1c', {'y': -4, 'phase': 240}, c1)"
   ]
  },
  {
   "cell_type": "code",
   "execution_count": 4,
   "metadata": {
    "collapsed": false,
    "scrolled": true
   },
   "outputs": [
    {
     "name": "stdout",
     "output_type": "stream",
     "text": [
      "  CrossSection object\n",
      "\n",
      "    sheet:                         vertical\n",
      "    parent SectionBook:            None\n",
      "    group:                         Underground Lines\n",
      "    title:                         Vertical Configuration\n",
      "    soil resistivity (?):          100.0\n",
      "    max distance from center (ft): 30.0\n",
      "    step size (ft):                1.0\n",
      "    sample height (ft):            3.0\n",
      "    left ROW edge (ft):            -15.0\n",
      "    right ROW edge (ft):           10.0\n",
      "\n",
      "    conductor information (3 Conductors)\n",
      "      names:                 '1a', '1b', '1c'\n",
      "      frequencies (Hz):      60.0, 60.0, 60.0\n",
      "      x coordinates (ft):    -0.5, -0.5, -0.5\n",
      "      y coordinates (ft):    -3.0, -3.5, -4.0\n",
      "      subconductors:         1.0, 1.0, 1.0\n",
      "      diameters (in):        1.0, 1.0, 1.0\n",
      "      bundle diameters (in): 1.0, 1.0, 1.0\n",
      "      voltages (V):          345.0, 345.0, 345.0\n",
      "      currents (A):          247.0, 247.0, 247.0\n",
      "      phase angles (deg):    0.0, 120.0, 240.0\n",
      "\n",
      "    fields sample (see CrossSection.fields for all EMF results)\n",
      "                 Bmax  Emax\n",
      "      -30.0  1.537810   0.0\n",
      "      -15.0  5.555295   0.0\n",
      "       10.0  9.197882   0.0\n",
      "       30.0  1.442952   0.0\n"
     ]
    }
   ],
   "source": [
    "xs = fld.CrossSection('vertical', [c1, c2, c3])\n",
    "xs.group = 'Underground Lines'\n",
    "xs.title = 'Vertical Configuration'\n",
    "xs.max_dist = 30\n",
    "xs.lROW = -15\n",
    "xs.rROW = 10\n",
    "\n",
    "print xs"
   ]
  },
  {
   "cell_type": "code",
   "execution_count": 5,
   "metadata": {
    "collapsed": false
   },
   "outputs": [
    {
     "name": "stdout",
     "output_type": "stream",
     "text": [
      "  CrossSection object\n",
      "\n",
      "    sheet:                         vertical\n",
      "    parent SectionBook:            None\n",
      "    group:                         Underground Lines\n",
      "    title:                         Vertical Configuration\n",
      "    soil resistivity (?):          100.0\n",
      "    max distance from center (ft): 30.0\n",
      "    step size (ft):                1.0\n",
      "    sample height (ft):            3.0\n",
      "    left ROW edge (ft):            -15.0\n",
      "    right ROW edge (ft):           10.0\n",
      "\n",
      "    conductor information (6 Conductors)\n",
      "      names:                 '1a', '1b', '1c', '2a', '2b', '2c'\n",
      "      frequencies (Hz):      60.0, 60.0, 60.0, 60.0, 60.0, 60.0\n",
      "      x coordinates (ft):    -0.5, -0.5, -0.5, 0.5, 0.5, 0.5\n",
      "      y coordinates (ft):    -3.0, -3.5, -4.0, -3.0, -3.5, -4.0\n",
      "      subconductors:         1.0, 1.0, 1.0, 1.0, 1.0, 1.0\n",
      "      diameters (in):        1.0, 1.0, 1.0, 1.0, 1.0, 1.0\n",
      "      bundle diameters (in): 1.0, 1.0, 1.0, 1.0, 1.0, 1.0\n",
      "      voltages (V):          345.0, 345.0, 345.0, 345.0, 345.0, 345.0\n",
      "      currents (A):          247.0, 247.0, 247.0, 247.0, 247.0, 247.0\n",
      "      phase angles (deg):    0.0, 120.0, 240.0, 0.0, 120.0, 240.0\n",
      "\n",
      "    fields sample (see CrossSection.fields for all EMF results)\n",
      "                 Bmax  Emax\n",
      "      -30.0  1.537810   0.0\n",
      "      -15.0  5.555295   0.0\n",
      "       10.0  9.197882   0.0\n",
      "       30.0  1.442952   0.0\n"
     ]
    }
   ],
   "source": [
    "xs.add_conductor(fld.Conductor('2a', dict(x=0.5, y=-3, phase=0), c3))\n",
    "xs.add_conductor(fld.Conductor('2b', dict(x=0.5, y=-3.5, phase=120), c3))\n",
    "xs.add_conductor(fld.Conductor('2c', dict(x=0.5, y=-4, phase=240), c3))\n",
    "\n",
    "print xs"
   ]
  },
  {
   "cell_type": "code",
   "execution_count": 6,
   "metadata": {
    "collapsed": false
   },
   "outputs": [
    {
     "name": "stdout",
     "output_type": "stream",
     "text": [
      "  SectionBook object\n",
      "      name:        'underground-line-optimization'\n",
      "      sheets:       'vertical'\n",
      "      unique groups:'Underground Lines'\n",
      "\n",
      "    maximum fields at CrossSection ROW edges:\n",
      "                    Bmaxl      Bmaxr  Emaxl  Emaxr\n",
      "      vertical  10.517718  19.764416    0.0    0.0\n"
     ]
    }
   ],
   "source": [
    "sb = fld.SectionBook('underground-line-optimization', [xs])\n",
    "\n",
    "print sb"
   ]
  },
  {
   "cell_type": "code",
   "execution_count": 7,
   "metadata": {
    "collapsed": false
   },
   "outputs": [
    {
     "name": "stdout",
     "output_type": "stream",
     "text": [
      "  SectionBook object\n",
      "      name:        'underground-line-optimization'\n",
      "      sheets:       'vertical', 'cornered'\n",
      "      unique groups:'Underground Lines'\n",
      "\n",
      "    maximum fields at CrossSection ROW edges:\n",
      "                    Bmaxl      Bmaxr  Emaxl  Emaxr\n",
      "      vertical  10.517718  19.764416    0.0    0.0\n",
      "      cornered   7.430379  13.978037    0.0    0.0\n"
     ]
    }
   ],
   "source": [
    "xs['1a'].y -= .5\n",
    "xs['1b'].y -= .5\n",
    "xs['1c'].x += .5\n",
    "xs['2a'].x -= .5\n",
    "xs['2b'].y += .5\n",
    "xs['2c'].y += .5\n",
    "xs.title = 'Cornered Configuration'\n",
    "xs.sheet = 'cornered'\n",
    "sb.add_section(xs)\n",
    "\n",
    "print sb"
   ]
  },
  {
   "cell_type": "code",
   "execution_count": 8,
   "metadata": {
    "collapsed": false
   },
   "outputs": [],
   "source": [
    "fld.plot_groups(sb, return_figs=True, E=False)\n",
    "fld.show()"
   ]
  },
  {
   "cell_type": "code",
   "execution_count": 9,
   "metadata": {
    "collapsed": false
   },
   "outputs": [
    {
     "name": "stdout",
     "output_type": "stream",
     "text": [
      "Phase optimization results written to: cornered_phase_optimization.xlsx\n",
      "  SectionBook object\n",
      "      name:        'cornered-optimal_phasing'\n",
      "      sheets:       'cornered (original)', 'Optimized for Bmax left',\n",
      "                    'Optimized for Bmax right', 'Optimized for Emax\n",
      "                    left', 'Optimized for Emax right'\n",
      "      unique groups:'Phase Optimized'\n",
      "\n",
      "    maximum fields at CrossSection ROW edges:\n",
      "                                   Bmaxl      Bmaxr  Emaxl  Emaxr\n",
      "      cornered (original)       7.430379  13.978037    0.0    0.0\n",
      "      Optimized for Bmax left   0.370336   0.959136    0.0    0.0\n",
      "      Optimized for Bmax right  0.370336   0.959136    0.0    0.0\n",
      "      Optimized for Emax left   7.430379  13.978037    0.0    0.0\n",
      "      Optimized for Emax right  7.430379  13.978037    0.0    0.0\n",
      "set(['Underground Lines'])\n"
     ]
    }
   ],
   "source": [
    "res, opt = fld.optimize_phasing(sb['cornered'], 'all', save=True)\n",
    "\n",
    "print opt\n",
    "print sb.unique_group_names"
   ]
  },
  {
   "cell_type": "code",
   "execution_count": 10,
   "metadata": {
    "collapsed": true
   },
   "outputs": [],
   "source": [
    "xs = opt.i[1]\n",
    "xs.sheet = 'optimized cornered'\n",
    "xs.title = 'Cornered Configuration, Phase Optimized'\n",
    "xs.group = 'Underground Lines'\n",
    "sb.add_section(xs)"
   ]
  },
  {
   "cell_type": "code",
   "execution_count": 11,
   "metadata": {
    "collapsed": true
   },
   "outputs": [],
   "source": [
    "fld.plot_groups(sb, return_figs=True, E=False)\n",
    "fld.plot_groups_at_ROW(sb, return_figs=True, E=False)\n",
    "fld.show()"
   ]
  },
  {
   "cell_type": "code",
   "execution_count": 12,
   "metadata": {
    "collapsed": false
   },
   "outputs": [
    {
     "name": "stdout",
     "output_type": "stream",
     "text": [
      "                        Bmaxl      Bmaxr  Emaxl  Emaxr\n",
      "vertical            10.517718  19.764416    0.0    0.0\n",
      "cornered             7.430379  13.978037    0.0    0.0\n",
      "optimized cornered   0.370336   0.959136    0.0    0.0\n"
     ]
    }
   ],
   "source": [
    "df = sb.ROW_edge_max\n",
    "\n",
    "print df"
   ]
  },
  {
   "cell_type": "code",
   "execution_count": 13,
   "metadata": {
    "collapsed": false
   },
   "outputs": [
    {
     "name": "stdout",
     "output_type": "stream",
     "text": [
      "Bmaxl   -96.478931\n",
      "Bmaxr   -95.147157\n",
      "dtype: float64\n"
     ]
    }
   ],
   "source": [
    "#calculate percentage reduction of B field at ROW edges\n",
    "df.drop(['Emaxl', 'Emaxr'], axis=1, inplace=True)\n",
    "perc = 100*(df.loc['optimized cornered'] - df.loc['vertical'])/df.loc['vertical']\n",
    "print perc"
   ]
  },
  {
   "cell_type": "markdown",
   "metadata": {},
   "source": [
    "About a 95 % reduction in magnet fields at both ROW edges after cornering and phase optimization!"
   ]
  },
  {
   "cell_type": "code",
   "execution_count": 14,
   "metadata": {
    "collapsed": false
   },
   "outputs": [
    {
     "name": "stdout",
     "output_type": "stream",
     "text": [
      "    Optimal Phasing - Bmax Left ROW Edge  \\\n",
      "1a                                 240.0   \n",
      "1b                                 120.0   \n",
      "1c                                   0.0   \n",
      "2a                                   0.0   \n",
      "2b                                 120.0   \n",
      "2c                                 240.0   \n",
      "\n",
      "    Optimal Phasing - Bmax Right ROW Edge  \\\n",
      "1a                                  120.0   \n",
      "1b                                    0.0   \n",
      "1c                                  240.0   \n",
      "2a                                  240.0   \n",
      "2b                                    0.0   \n",
      "2c                                  120.0   \n",
      "\n",
      "    Optimal Phasing - Emax Left ROW Edge  \\\n",
      "1a                                   0.0   \n",
      "1b                                 120.0   \n",
      "1c                                 240.0   \n",
      "2a                                   0.0   \n",
      "2b                                 120.0   \n",
      "2c                                 240.0   \n",
      "\n",
      "    Optimal Phasing - Emax Right ROW Edge  \n",
      "1a                                    0.0  \n",
      "1b                                  120.0  \n",
      "1c                                  240.0  \n",
      "2a                                    0.0  \n",
      "2b                                  120.0  \n",
      "2c                                  240.0  \n"
     ]
    }
   ],
   "source": [
    "#inspect the actual phasing assignments\n",
    "print res"
   ]
  },
  {
   "cell_type": "code",
   "execution_count": 15,
   "metadata": {
    "collapsed": false
   },
   "outputs": [
    {
     "name": "stdout",
     "output_type": "stream",
     "text": [
      "FLD file generated: optimized cornered.FLD\n"
     ]
    }
   ],
   "source": [
    "#export the optimized cornered xs to a FLD file to compare with FIELDS calcs\n",
    "fld.to_FLD(sb['optimized cornered'])"
   ]
  },
  {
   "cell_type": "code",
   "execution_count": 16,
   "metadata": {
    "collapsed": false
   },
   "outputs": [
    {
     "name": "stdout",
     "output_type": "stream",
     "text": [
      "DAT comparison book saved to: \"optimized cornered-DAT_comparison.xlsx\"\n",
      "plot saved to: optimized cornered-DAT-comparison-Bmax.png\n",
      "plot saved to: optimized cornered-DAT-comparison-Emax.png\n"
     ]
    }
   ],
   "source": [
    "#after running the FLD file through FIELDS to generate a DAT file, compare the results\n",
    "pan = sb['optimized cornered'].compare_DAT('optimized cornered.DAT', save=True, round=3)"
   ]
  },
  {
   "cell_type": "markdown",
   "metadata": {},
   "source": [
    "No difference between the emf.fields and FIELDS output!"
   ]
  },
  {
   "cell_type": "code",
   "execution_count": 17,
   "metadata": {
    "collapsed": false
   },
   "outputs": [
    {
     "name": "stdout",
     "output_type": "stream",
     "text": [
      "Cross section fields written to: optimized cornered-all_results.csv\n"
     ]
    }
   ],
   "source": [
    "#After rounding the Python generated fields to the thousandths digit, they are identical to\n",
    "#the FIELDS generated results. Zero absolute difference. Export the precise results.\n",
    "sb['optimized cornered'].export()"
   ]
  }
 ],
 "metadata": {
  "kernelspec": {
   "display_name": "Python 2",
   "language": "python",
   "name": "python2"
  },
  "language_info": {
   "codemirror_mode": {
    "name": "ipython",
    "version": 2
   },
   "file_extension": ".py",
   "mimetype": "text/x-python",
   "name": "python",
   "nbconvert_exporter": "python",
   "pygments_lexer": "ipython2",
   "version": "2.7.11"
  }
 },
 "nbformat": 4,
 "nbformat_minor": 0
}
