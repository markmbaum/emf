{
 "cells": [
  {
   "cell_type": "markdown",
   "metadata": {},
   "source": [
    "This notebook shows how `emf.subcalc` makes use of template files to store modeling information. The first template file, a tower template, is used to store information relating to towers supporting power lines, which is read into `Tower` objects for use by a `Model` object. the second template, a footprint template, stores the coordinates of objects in the model domain that will be included in map-style plots (contour and colormesh).\n",
    "\n",
    "Empty versions of each template can be generate with `emf.subcalc.drop_tower_template()` and `emf.subcalc.drop_footprint_template()`."
   ]
  },
  {
   "cell_type": "code",
   "execution_count": 1,
   "metadata": {
    "collapsed": true
   },
   "outputs": [],
   "source": [
    "import emf.subcalc as sc"
   ]
  },
  {
   "cell_type": "markdown",
   "metadata": {},
   "source": [
    "First we use the `load_towers` function to read the tower template into `Tower` objects. The tower template we'll use is towers.csv, in this same directory. Tower templates are fairly simple. Each `Tower` object is defined by a unique \"group\" and \"sequence\" combination. Towers with the same \"group\" are carrying the same circuit, with the ordering in each group defined by the \"sequence\" input. Each tower has x and y coordiates, a rotation angle, and a row for the coordinates and loading of its wires. Our template only has a single circuit in it, so there is only one \"group\" used for all the towers.\n",
    "\n",
    "The `load_towers` function returns a list of `Tower` objects by default, but we can tell it to return a fresh `Model` object containing all of the new `Towers` by passing `True` in the second argument."
   ]
  },
  {
   "cell_type": "code",
   "execution_count": 2,
   "metadata": {
    "collapsed": false
   },
   "outputs": [
    {
     "name": "stdout",
     "output_type": "stream",
     "text": [
      "Model object\n",
      "    name: 'towers'\n",
      "    x limits: 447.199 to 2008.07 ft\n",
      "    y limits: 208.927 to 1163 ft\n",
      "    total samples: 1491710\n",
      "    sample spacing: 1 ft\n",
      "    number of Tower objects: 8\n",
      "    number of Tower groups: 1\n",
      "    tower group names: 'Power Line'\n",
      "    number of Condutor objects: 0\n",
      "    total number of wire segments: 21\n"
     ]
    }
   ],
   "source": [
    "mod = sc.load_towers('towers.csv', True)\n",
    "\n",
    "print mod"
   ]
  },
  {
   "cell_type": "markdown",
   "metadata": {},
   "source": [
    "Success. It takes some work to assemble the tower template, but once it's compiled the modeling process is quite simple.\n",
    "\n",
    "Let's drop the resolution a little bit (increase the spacing), set the model domain limits manually, and run the calculations by calling the `Model` object's `calculate` method."
   ]
  },
  {
   "cell_type": "code",
   "execution_count": 3,
   "metadata": {
    "collapsed": false
   },
   "outputs": [
    {
     "name": "stdout",
     "output_type": "stream",
     "text": [
      "segment calculations complete: 21/21 \n",
      "total calculation time: 5.156 seconds\n",
      "Results object\n",
      "    name: 'towers'\n",
      "    components/Bkeys: 'Bmax', 'Bres', 'By', 'Bz', 'Bx'\n",
      "    Bmax range: 0.075111 to 56.8365 mG\n",
      "    x limits: 200 to 2201 ft\n",
      "    y limits: 0 to 1401 ft\n",
      "    total samples: 312624\n",
      "    sample spacing: 3 ft\n",
      "    number of Footprints: 1\n",
      "    Footprint groups: 'Power Line'\n"
     ]
    }
   ],
   "source": [
    "mod.spacing = 3\n",
    "mod.xlim = 200, 2200\n",
    "mod.ylim = 0, 1400\n",
    "\n",
    "res = mod.calculate()\n",
    "\n",
    "print res"
   ]
  },
  {
   "cell_type": "markdown",
   "metadata": {},
   "source": [
    "We have the results. Before making plots, we want to associate our footprints with the results object with the footprint template. Our template is called footprints.csv and it is formatted much like the tower template. Each footprint has a unique \"group\" and \"name\" combination. Footprints in the same group are labeled collectively in the plots. To get our footprints into the results, we simple call the `load_footprints` method of the `Results` object."
   ]
  },
  {
   "cell_type": "code",
   "execution_count": 4,
   "metadata": {
    "collapsed": false
   },
   "outputs": [
    {
     "name": "stdout",
     "output_type": "stream",
     "text": [
      "Results object\n",
      "    name: 'towers'\n",
      "    components/Bkeys: 'Bmax', 'Bres', 'By', 'Bz', 'Bx'\n",
      "    Bmax range: 0.075111 to 56.8365 mG\n",
      "    x limits: 200 to 2201 ft\n",
      "    y limits: 0 to 1401 ft\n",
      "    total samples: 312624\n",
      "    sample spacing: 3 ft\n",
      "    number of Footprints: 10\n",
      "    Footprint groups: 'Plant', 'Switchyard', 'Baksis Road', 'Power Line', \n",
      "                      'Railway', 'Nearby Lots and Buildings'\n"
     ]
    }
   ],
   "source": [
    "res.load_footprints('footprints.csv', clear=False)\n",
    "\n",
    "print res"
   ]
  },
  {
   "cell_type": "markdown",
   "metadata": {},
   "source": [
    "The new footprints are now showing up in the `Results` and we can make some fancy plots."
   ]
  },
  {
   "cell_type": "code",
   "execution_count": 5,
   "metadata": {
    "collapsed": false
   },
   "outputs": [
    {
     "name": "stdout",
     "output_type": "stream",
     "text": [
      "plot saved to: contour-plot.png\n",
      "plot saved to: pcolormesh-plot.png\n"
     ]
    },
    {
     "data": {
      "text/plain": [
       "(<matplotlib.figure.Figure at 0x11f272b0>,\n",
       " <matplotlib.axes._subplots.AxesSubplot at 0x11f6c6b0>,\n",
       " <matplotlib.collections.QuadMesh at 0x12020ed0>,\n",
       " <matplotlib.axes._subplots.AxesSubplot at 0x12020590>)"
      ]
     },
     "execution_count": 5,
     "metadata": {},
     "output_type": "execute_result"
    }
   ],
   "source": [
    "sc.ion()\n",
    "sc.plot_contour(res, save=True)\n",
    "sc.plot_pcolormesh(res, save=True)"
   ]
  }
 ],
 "metadata": {
  "kernelspec": {
   "display_name": "Python 2",
   "language": "python",
   "name": "python2"
  },
  "language_info": {
   "codemirror_mode": {
    "name": "ipython",
    "version": 2
   },
   "file_extension": ".py",
   "mimetype": "text/x-python",
   "name": "python",
   "nbconvert_exporter": "python",
   "pygments_lexer": "ipython2",
   "version": "2.7.11"
  }
 },
 "nbformat": 4,
 "nbformat_minor": 0
}
