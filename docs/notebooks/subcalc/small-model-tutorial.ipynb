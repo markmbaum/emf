{
 "cells": [
  {
   "cell_type": "markdown",
   "metadata": {},
   "source": [
    "This notebook is a tutorial demonstrating the basics of `emf.subcalc`. We'll build a small model using Python only (without a template), compute results, and create some plots."
   ]
  },
  {
   "cell_type": "code",
   "execution_count": 1,
   "metadata": {
    "collapsed": true
   },
   "outputs": [],
   "source": [
    "import emf.subcalc as sc"
   ]
  },
  {
   "cell_type": "markdown",
   "metadata": {},
   "source": [
    "Fundamentally, using `emf.subcalc` requires creating `Tower` and/or `Conductor` objects, putting them into a `Model` object, and running the `Model` object's `calculate` method to generate a `Results` object.\n",
    "\n",
    "First step: creating `Tower`/`Conductor` objects\n",
    "\n",
    "In this example we'll only use `Tower` objects because `Conductor` objects are usually not necessary. A `Conductor` object represents a single current carrying wire in a model domain, with the coordinates of the wire's path specified explicitly. A `Tower` object, on the other hand, represents a single tower/pole/frame with power lines strung up on it, with the positions of the wires specified in the tower's frame of reference instead of in explicit x,y,z coordinates. To create a `Tower`, we have to the following information:\n",
    "* Group string. The \"group\" string is used to define which towers have power lines running between them.\n",
    "* Sequence integer. The \"seq\" number defines the order in which power lines are strung between towers in the same group. \n",
    "* x and y coordinates in our model domain\n",
    "* Rotation angle. The rotation angle is zero along the +x axis and increases toward the +y axis. This is different from the old SUBCALC program, which defines 0 rotation along the -y axis.\n",
    "* Horizontal coordinates of wires on the tower, in the tower's reference frame. These are simply the horizontal distances of each wire from the tower.\n",
    "* Vertical coordinates of wires on the tower, which are identical to z coordinates in the model domain. They're simply the distance above ground (where the ground surface is at z=0).\n",
    "* The current amplitude of each wire\n",
    "* The phase angle of each wire\n",
    "\n",
    "Tower objects, and `emf.subcalc` in general, expect units of feet, Amps, and degrees.\n",
    "\n",
    "The first group of Towers will have three power lines (one circuit). We'll make it run in the +y direction a little, then make a right angle and run in the +x direction:"
   ]
  },
  {
   "cell_type": "code",
   "execution_count": 2,
   "metadata": {
    "collapsed": false
   },
   "outputs": [],
   "source": [
    "#easier to keep Towers in a list instead of individual variables\n",
    "tower_group_1 = [\n",
    "    #         group   seq   x    y   rot   horz       vert        currents       phases\n",
    "    sc.Tower('Line 1', 0,   0,   0,   0, [-5,0,5], [25,25,25], [100,100,100], [0,120,240]),\n",
    "    sc.Tower('Line 1', 1,   0, 100, -45, [-5,0,5], [25,25,25], [100,100,100], [0,120,240]),\n",
    "    sc.Tower('Line 1', 2, 100, 100, -90, [-5,0,5], [25,25,25], [100,100,100], [0,120,240])\n",
    "]"
   ]
  },
  {
   "cell_type": "markdown",
   "metadata": {},
   "source": [
    "The second group of Towers will also have three lines, but will only run in the +x direction."
   ]
  },
  {
   "cell_type": "code",
   "execution_count": 3,
   "metadata": {
    "collapsed": true
   },
   "outputs": [],
   "source": [
    "tower_group_2 = [\n",
    "    #         group   seq   x  y   rot   horz       vert        currents       phases\n",
    "    sc.Tower('Line 2', 0,  10, 0, -90, [-5,0,5], [25,25,25], [100,100,100], [0,120,240]),\n",
    "    sc.Tower('Line 2', 1, 100, 0, -90, [-5,0,5], [25,25,25], [100,100,100], [0,120,240])\n",
    "]"
   ]
  },
  {
   "cell_type": "markdown",
   "metadata": {},
   "source": [
    "Now that all of the `Tower` objects are created, we put them into a `Model` object, which is then used to set the model domain, set the sampling resolution, and get the results."
   ]
  },
  {
   "cell_type": "code",
   "execution_count": 4,
   "metadata": {
    "collapsed": false
   },
   "outputs": [
    {
     "name": "stdout",
     "output_type": "stream",
     "text": [
      "Model object\n",
      "    name: 'tutorial'\n",
      "    x limits: -16 to 111 ft\n",
      "    y limits: -16 to 116 ft\n",
      "    total samples: 17024\n",
      "    sample spacing: 1 ft\n",
      "    number of Tower objects: 5\n",
      "    number of Tower groups: 2\n",
      "    tower group names: 'Line 1', 'Line 2'\n",
      "    number of Condutor objects: 0\n",
      "    total number of wire segments: 9\n"
     ]
    }
   ],
   "source": [
    "#Model objects can be initialized with no inputs, but here we pass a list containing all of our Towers.\n",
    "#Behind the scenes, the Model object will run its add_tower() method on each of the Towers.\n",
    "#We also pass a name string to give the Model a sense of identity. Otherwise it would be sad.\n",
    "towers = tower_group_1 + tower_group_2\n",
    "mod = sc.Model(name='tutorial', towers=towers)\n",
    "#printing Model objects presents a short summary of the object's wires and sample grid\n",
    "print(mod)"
   ]
  },
  {
   "cell_type": "markdown",
   "metadata": {},
   "source": [
    "The `Model` object has incorporated all of our `Tower` objects. If the sampling domain isn't specified directly, the `Model` will automatically choose x and y limits based on where its wires are located. Let's set the limits directly to get a bigger model domain.\n",
    "\n",
    "The `Model` will also default to a sample spacing of 1 ft. With only 17,024 sample points, we could boost the resolution if we wanted. Why not?"
   ]
  },
  {
   "cell_type": "code",
   "execution_count": 5,
   "metadata": {
    "collapsed": false
   },
   "outputs": [
    {
     "name": "stdout",
     "output_type": "stream",
     "text": [
      "Model object\n",
      "    name: 'tutorial'\n",
      "    x limits: -20 to 120 ft\n",
      "    y limits: -20 to 120 ft\n",
      "    total samples: 78961\n",
      "    sample spacing: 0.5 ft\n",
      "    number of Tower objects: 5\n",
      "    number of Tower groups: 2\n",
      "    tower group names: 'Line 1', 'Line 2'\n",
      "    number of Condutor objects: 0\n",
      "    total number of wire segments: 9\n"
     ]
    }
   ],
   "source": [
    "#set the model limits directly\n",
    "mod.xlim = -20, 120\n",
    "mod.ylim = -20, 120\n",
    "#decrease the sample spacing, increasing the resolution\n",
    "mod.spacing = 0.5\n",
    "\n",
    "print(mod)"
   ]
  },
  {
   "cell_type": "markdown",
   "metadata": {},
   "source": [
    "It looks like everything is in place. Now we can run the `Model` object's `calculate()` method to generate a `Results` object containing all of the computed fields."
   ]
  },
  {
   "cell_type": "code",
   "execution_count": 6,
   "metadata": {
    "collapsed": false
   },
   "outputs": [
    {
     "name": "stdout",
     "output_type": "stream",
     "text": [
      "segment calculations complete: 9/9 \n",
      "total calculation time: 0.546 seconds\n"
     ]
    }
   ],
   "source": [
    "#The calculate method parses all of the Tower data into individual wire segments,\n",
    "# passes each wire segment to the magnetic field functions, then sums up the results\n",
    "# of each segment.\n",
    "res = mod.calculate()"
   ]
  },
  {
   "cell_type": "markdown",
   "metadata": {},
   "source": [
    "The calculations go very quickly for a small model with only 9 wire segments. Now we have a `Results` object stored in the `res` variable. We can print the `Results` object to get a quick summary of its contents."
   ]
  },
  {
   "cell_type": "code",
   "execution_count": 7,
   "metadata": {
    "collapsed": false
   },
   "outputs": [
    {
     "name": "stdout",
     "output_type": "stream",
     "text": [
      "Results object\n",
      "    name: 'tutorial'\n",
      "    components/Bkeys: 'Bmax', 'Bres', 'By', 'Bz', 'Bx'\n",
      "    Bmax range: 0.425385 to 10.3558 mG\n",
      "    x limits: -20 to 120 ft\n",
      "    y limits: -20 to 120 ft\n",
      "    total samples: 78961\n",
      "    sample spacing: 0.5 ft\n",
      "    number of Footprints: 2\n",
      "    Footprint groups: 'Line 1', 'Line 2'\n"
     ]
    }
   ],
   "source": [
    "print(res)"
   ]
  },
  {
   "cell_type": "markdown",
   "metadata": {},
   "source": [
    "There are a few things to note.\n",
    "\n",
    "First, the `Results` object lists five separate strings in its 'Bkeys' field. These refer to the components of the magnetic field stored in the object. We can access any of these components by changing the 'Bkey' property of the object to one of the 'Bkeys' that is listed. For example:"
   ]
  },
  {
   "cell_type": "code",
   "execution_count": 8,
   "metadata": {
    "collapsed": false
   },
   "outputs": [
    {
     "name": "stdout",
     "output_type": "stream",
     "text": [
      "Bmax\n"
     ]
    }
   ],
   "source": [
    "#first we check what the current 'Bkey' is\n",
    "print(res.Bkey)"
   ]
  },
  {
   "cell_type": "code",
   "execution_count": 9,
   "metadata": {
    "collapsed": false
   },
   "outputs": [
    {
     "name": "stdout",
     "output_type": "stream",
     "text": [
      "[[ 2.68986205  2.73567943  2.78221949 ...,  1.06536488  1.03717138\n",
      "   1.01007188]\n",
      " [ 2.73524702  2.78250297  2.83052232 ...,  1.08753242  1.05880299\n",
      "   1.03118139]\n",
      " [ 2.78135114  2.83008632  2.87962759 ...,  1.11023782  1.080949\n",
      "   1.05278185]\n",
      " ..., \n",
      " [ 1.54177447  1.58112699  1.621142   ...,  1.04514615  1.01515312\n",
      "   0.98638041]\n",
      " [ 1.5080385   1.54600023  1.58457145 ...,  1.02471079  0.99519756\n",
      "   0.96689086]\n",
      " [ 1.47490731  1.51150765  1.54866683 ...,  1.00483964  0.97578537\n",
      "   0.94792354]]\n"
     ]
    }
   ],
   "source": [
    "#alright, the Results object is set to access the Bmax component\n",
    "#the results are stored in 2D numpy arrays, accessible with the 'B' property of the object\n",
    "#lets check out the fields\n",
    "print(res.B)"
   ]
  },
  {
   "cell_type": "code",
   "execution_count": 10,
   "metadata": {
    "collapsed": false
   },
   "outputs": [
    {
     "name": "stdout",
     "output_type": "stream",
     "text": [
      "[[ 1.68238043  1.70852002  1.73438084 ...,  0.0770671   0.07516712\n",
      "   0.07331521]\n",
      " [ 1.73208841  1.75954664  1.78673026 ...,  0.07805676  0.07611252\n",
      "   0.07421818]\n",
      " [ 1.78308678  1.81192051  1.84048499 ...,  0.07904461  0.07705569\n",
      "   0.07511853]\n",
      " ..., \n",
      " [ 0.8500505   0.8522119   0.85357281 ...,  0.02400158  0.02359008\n",
      "   0.02318582]\n",
      " [ 0.81733663  0.81905182  0.81999706 ...,  0.02384174  0.02343428\n",
      "   0.02303396]\n",
      " [ 0.78587686  0.78718186  0.78774677 ...,  0.02368101  0.02327759\n",
      "   0.02288121]]\n"
     ]
    }
   ],
   "source": [
    "#now, if we change the 'Bkey' to something else, we will get different numbers from the 'B' property\n",
    "#if we want to work with the x component of the results, we set 'Bkey' to 'Bx'\n",
    "res.Bkey = 'Bx'\n",
    "print(res.B)"
   ]
  },
  {
   "cell_type": "markdown",
   "metadata": {},
   "source": [
    "The 'Bkey' property of a `Results` object determines which component of the fields your working with. 'Bmax' is the default.\n",
    "\n",
    "When `res` was printed, it also listed two \"footprint\" objects. Let's check one of them out."
   ]
  },
  {
   "cell_type": "code",
   "execution_count": 11,
   "metadata": {
    "collapsed": false
   },
   "outputs": [
    {
     "name": "stdout",
     "output_type": "stream",
     "text": [
      "Footprint object\n",
      "    name: 'Line 1'\n",
      "    group: 'Line 1'\n",
      "    x (ft): 0, 0, 100\n",
      "    y (ft): 0, 100, 100\n",
      "    power line?: True\n",
      "    of concern?: False\n",
      "    draw as loop?: False\n"
     ]
    }
   ],
   "source": [
    "print(res.footprints[0])"
   ]
  },
  {
   "cell_type": "markdown",
   "metadata": {},
   "source": [
    "A `Footprint` object represents the outline or path of some object in the model domain. When we ran `mod.calculate()` the `Model` object automatically converted its tower groups into `Footprint` objects representing the paths of the power lines. These footprints will show up when we plot the results:"
   ]
  },
  {
   "cell_type": "code",
   "execution_count": 12,
   "metadata": {
    "collapsed": false
   },
   "outputs": [
    {
     "data": {
      "text/plain": [
       "(<matplotlib.figure.Figure at 0x95a0310>,\n",
       " <matplotlib.axes._subplots.AxesSubplot at 0x95de130>,\n",
       " <matplotlib.contour.QuadContourSet at 0x96aa0d0>)"
      ]
     },
     "execution_count": 12,
     "metadata": {},
     "output_type": "execute_result"
    }
   ],
   "source": [
    "sc.ion()\n",
    "sc.plot_contour(res)"
   ]
  },
  {
   "cell_type": "markdown",
   "metadata": {},
   "source": [
    "Because the 'Bkey' property of the results is still set to 'Bx', the plotting functions work with the x component of the fields. To switch back to the maximum fields, we just have to switch 'Bkey' again and replot."
   ]
  },
  {
   "cell_type": "code",
   "execution_count": 13,
   "metadata": {
    "collapsed": false
   },
   "outputs": [
    {
     "data": {
      "text/plain": [
       "(<matplotlib.figure.Figure at 0x964b9b0>,\n",
       " <matplotlib.axes._subplots.AxesSubplot at 0x10de9690>,\n",
       " <matplotlib.contour.QuadContourSet at 0x10eba610>)"
      ]
     },
     "execution_count": 13,
     "metadata": {},
     "output_type": "execute_result"
    }
   ],
   "source": [
    "res.Bkey = 'Bmax'\n",
    "sc.plot_contour(res)"
   ]
  },
  {
   "cell_type": "raw",
   "metadata": {},
   "source": [
    "Pretty contours, but we can also automatically create a colormesh plot it the contours aren't working for somebody."
   ]
  },
  {
   "cell_type": "code",
   "execution_count": 14,
   "metadata": {
    "collapsed": false
   },
   "outputs": [
    {
     "data": {
      "text/plain": [
       "(<matplotlib.figure.Figure at 0x10d38cd0>,\n",
       " <matplotlib.axes._subplots.AxesSubplot at 0x10fb1190>,\n",
       " <matplotlib.collections.QuadMesh at 0x110bb730>,\n",
       " <matplotlib.colorbar.Colorbar at 0x11154370>)"
      ]
     },
     "execution_count": 14,
     "metadata": {},
     "output_type": "execute_result"
    }
   ],
   "source": [
    "sc.plot_pcolormesh(res)"
   ]
  },
  {
   "cell_type": "markdown",
   "metadata": {},
   "source": [
    "We've created a model, calculated results, and made some nice plots. Those are the basics of `emf.subcalc`. Just in case, let's export the result so that somebody else could work with them outside of Python."
   ]
  },
  {
   "cell_type": "code",
   "execution_count": 15,
   "metadata": {
    "collapsed": false
   },
   "outputs": [
    {
     "name": "stdout",
     "output_type": "stream",
     "text": [
      "results saved to: tutorial.xlsx\n"
     ]
    }
   ],
   "source": [
    "res.export()"
   ]
  }
 ],
 "metadata": {
  "kernelspec": {
   "display_name": "Python 2",
   "language": "python",
   "name": "python2"
  },
  "language_info": {
   "codemirror_mode": {
    "name": "ipython",
    "version": 2
   },
   "file_extension": ".py",
   "mimetype": "text/x-python",
   "name": "python",
   "nbconvert_exporter": "python",
   "pygments_lexer": "ipython2",
   "version": "2.7.11"
  }
 },
 "nbformat": 4,
 "nbformat_minor": 0
}
