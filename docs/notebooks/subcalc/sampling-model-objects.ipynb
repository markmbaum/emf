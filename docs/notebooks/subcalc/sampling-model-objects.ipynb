{
 "cells": [
  {
   "cell_type": "markdown",
   "metadata": {},
   "source": [
    "This notebook demonstrates how the `sample` method of `Model` objects can be used to efficiently calculate the fields at a set of points that are not arranged in a grid. The `calculate` method of `Model` objects automatically assembles a grid of sample points, calculates fields at all the grid points, then returns them in a `Results` object. The `Results` object has several methods for interpolating the results and is the best tool for examining results over the entire domain of a model. However, if an entire grid of results is not necessary, the `sample` method of `Model` objects provides an easy way to compute fields at an arbitrary set of points in the 3d space of the model. For example, it might be desireble to have a dense set of results along a fenceline so that the plotted results are nice and smooth. It might also be necessary to compute fields at a non-constant height. The grid of results created by the `calculate` method has a fixed height (3.28 ft by default). The `sample` method makes allows for different heights (z coordinates) because it computes fields at an arbitrary set of points in space."
   ]
  },
  {
   "cell_type": "code",
   "execution_count": 1,
   "metadata": {
    "collapsed": true
   },
   "outputs": [],
   "source": [
    "import emf.subcalc as sc"
   ]
  },
  {
   "cell_type": "markdown",
   "metadata": {},
   "source": [
    "Let's get straight to the sampling by loading a model from a tower template."
   ]
  },
  {
   "cell_type": "code",
   "execution_count": 2,
   "metadata": {
    "collapsed": true
   },
   "outputs": [],
   "source": [
    "mod = sc.load_towers('towers.csv', return_model=True)"
   ]
  },
  {
   "cell_type": "markdown",
   "metadata": {},
   "source": [
    "It doesn't really matter what we're modeling for this example, but the towers represent a single circuit running near a substation.\n",
    "\n",
    "We can sample the `Model` object at any point in space that does not lie on the path of the model's wires (which causes divison by zero). Let's just say we want to know the fields at the point (1,2,3)."
   ]
  },
  {
   "cell_type": "code",
   "execution_count": 3,
   "metadata": {
    "collapsed": false
   },
   "outputs": [
    {
     "name": "stdout",
     "output_type": "stream",
     "text": [
      "segment calculations complete: 1/21 \r",
      "segment calculations complete: 2/21 \r",
      "segment calculations complete: 3/21 \r",
      "segment calculations complete: 4/21 \r",
      "segment calculations complete: 5/21 \r",
      "segment calculations complete: 6/21 \r",
      "segment calculations complete: 7/21 \r",
      "segment calculations complete: 8/21 \r",
      "segment calculations complete: 9/21 \r",
      "segment calculations complete: 10/21 \r",
      "segment calculations complete: 11/21 \r",
      "segment calculations complete: 12/21 \r",
      "segment calculations complete: 13/21 \r",
      "segment calculations complete: 14/21 \r",
      "segment calculations complete: 15/21 \r",
      "segment calculations complete: 16/21 \r",
      "segment calculations complete: 17/21 \r",
      "segment calculations complete: 18/21 \r",
      "segment calculations complete: 19/21 \r",
      "segment calculations complete: 20/21 \r",
      "segment calculations complete: 21/21 \n",
      "total calculation time: 0.013 seconds\n"
     ]
    },
    {
     "data": {
      "text/html": [
       "<div>\n",
       "<table border=\"1\" class=\"dataframe\">\n",
       "  <thead>\n",
       "    <tr style=\"text-align: right;\">\n",
       "      <th></th>\n",
       "      <th></th>\n",
       "      <th></th>\n",
       "      <th>Bmax</th>\n",
       "      <th>Bres</th>\n",
       "      <th>Bx</th>\n",
       "      <th>By</th>\n",
       "      <th>Bz</th>\n",
       "      <th>dist</th>\n",
       "    </tr>\n",
       "    <tr>\n",
       "      <th>x</th>\n",
       "      <th>y</th>\n",
       "      <th>z</th>\n",
       "      <th></th>\n",
       "      <th></th>\n",
       "      <th></th>\n",
       "      <th></th>\n",
       "      <th></th>\n",
       "      <th></th>\n",
       "    </tr>\n",
       "  </thead>\n",
       "  <tbody>\n",
       "    <tr>\n",
       "      <th>1.0</th>\n",
       "      <th>2.0</th>\n",
       "      <th>3.0</th>\n",
       "      <td>0.131758</td>\n",
       "      <td>0.131805</td>\n",
       "      <td>0.076077</td>\n",
       "      <td>0.002704</td>\n",
       "      <td>0.107599</td>\n",
       "      <td>0.0</td>\n",
       "    </tr>\n",
       "  </tbody>\n",
       "</table>\n",
       "</div>"
      ],
      "text/plain": [
       "                 Bmax      Bres        Bx        By        Bz  dist\n",
       "x   y   z                                                          \n",
       "1.0 2.0 3.0  0.131758  0.131805  0.076077  0.002704  0.107599   0.0"
      ]
     },
     "execution_count": 3,
     "metadata": {},
     "output_type": "execute_result"
    }
   ],
   "source": [
    "mod.sample(1,2,3)"
   ]
  },
  {
   "cell_type": "markdown",
   "metadata": {},
   "source": [
    "The `sample` method returns results in a pandas `DataFrame`. The returned frame has a `MultiIndex`, and is indexed by the sampled points. If we want just the maximum field at the point (1,2,3), we can get it."
   ]
  },
  {
   "cell_type": "code",
   "execution_count": 4,
   "metadata": {
    "collapsed": false
   },
   "outputs": [
    {
     "name": "stdout",
     "output_type": "stream",
     "text": [
      "segment calculations complete: 1/21 \r",
      "segment calculations complete: 2/21 \r",
      "segment calculations complete: 3/21 \r",
      "segment calculations complete: 4/21 \r",
      "segment calculations complete: 5/21 \r",
      "segment calculations complete: 6/21 \r",
      "segment calculations complete: 7/21 \r",
      "segment calculations complete: 8/21 \r",
      "segment calculations complete: 9/21 \r",
      "segment calculations complete: 10/21 \r",
      "segment calculations complete: 11/21 \r",
      "segment calculations complete: 12/21 \r",
      "segment calculations complete: 13/21 \r",
      "segment calculations complete: 14/21 \r",
      "segment calculations complete: 15/21 \r",
      "segment calculations complete: 16/21 \r",
      "segment calculations complete: 17/21 \r",
      "segment calculations complete: 18/21 \r",
      "segment calculations complete: 19/21 \r",
      "segment calculations complete: 20/21 \r",
      "segment calculations complete: 21/21 \n",
      "total calculation time: 0.01 seconds\n",
      "0.13175848903\n"
     ]
    }
   ],
   "source": [
    "print mod.sample(1,2,3).at[(1,2,3), 'Bmax']"
   ]
  },
  {
   "cell_type": "markdown",
   "metadata": {},
   "source": [
    "It's also possible to omit the last argument to the `sample` method. In this case, the z coordinate is assumed to be the number stored in the `Model` object's `z` property. If the z coordinate is omitted, the returned frame is only indexed by the x and y coordinates."
   ]
  },
  {
   "cell_type": "code",
   "execution_count": 5,
   "metadata": {
    "collapsed": false
   },
   "outputs": [
    {
     "name": "stdout",
     "output_type": "stream",
     "text": [
      "segment calculations complete: 1/21 \r",
      "segment calculations complete: 2/21 \r",
      "segment calculations complete: 3/21 \r",
      "segment calculations complete: 4/21 \r",
      "segment calculations complete: 5/21 \r",
      "segment calculations complete: 6/21 \r",
      "segment calculations complete: 7/21 \r",
      "segment calculations complete: 8/21 \r",
      "segment calculations complete: 9/21 \r",
      "segment calculations complete: 10/21 \r",
      "segment calculations complete: 11/21 \r",
      "segment calculations complete: 12/21 \r",
      "segment calculations complete: 13/21 \r",
      "segment calculations complete: 14/21 \r",
      "segment calculations complete: 15/21 \r",
      "segment calculations complete: 16/21 \r",
      "segment calculations complete: 17/21 \r",
      "segment calculations complete: 18/21 \r",
      "segment calculations complete: 19/21 \r",
      "segment calculations complete: 20/21 \r",
      "segment calculations complete: 21/21 \n",
      "total calculation time: 0.015 seconds\n"
     ]
    },
    {
     "data": {
      "text/html": [
       "<div>\n",
       "<table border=\"1\" class=\"dataframe\">\n",
       "  <thead>\n",
       "    <tr style=\"text-align: right;\">\n",
       "      <th></th>\n",
       "      <th></th>\n",
       "      <th>Bmax</th>\n",
       "      <th>Bres</th>\n",
       "      <th>Bx</th>\n",
       "      <th>By</th>\n",
       "      <th>Bz</th>\n",
       "      <th>dist</th>\n",
       "    </tr>\n",
       "    <tr>\n",
       "      <th>x</th>\n",
       "      <th>y</th>\n",
       "      <th></th>\n",
       "      <th></th>\n",
       "      <th></th>\n",
       "      <th></th>\n",
       "      <th></th>\n",
       "      <th></th>\n",
       "    </tr>\n",
       "  </thead>\n",
       "  <tbody>\n",
       "    <tr>\n",
       "      <th>1.0</th>\n",
       "      <th>2.0</th>\n",
       "      <td>0.13178</td>\n",
       "      <td>0.131826</td>\n",
       "      <td>0.076054</td>\n",
       "      <td>0.002673</td>\n",
       "      <td>0.107642</td>\n",
       "      <td>0.0</td>\n",
       "    </tr>\n",
       "  </tbody>\n",
       "</table>\n",
       "</div>"
      ],
      "text/plain": [
       "            Bmax      Bres        Bx        By        Bz  dist\n",
       "x   y                                                         \n",
       "1.0 2.0  0.13178  0.131826  0.076054  0.002673  0.107642   0.0"
      ]
     },
     "execution_count": 5,
     "metadata": {},
     "output_type": "execute_result"
    }
   ],
   "source": [
    "mod.sample(1,2)"
   ]
  },
  {
   "cell_type": "markdown",
   "metadata": {},
   "source": [
    "It's easy to get results for a single point, with or without a new z coordinate. Now we'll look at getting multiple points.\n",
    "\n",
    "As a trivial example, let's get fields for the points (1,2,3), (4,5,6), and (7,8,9)."
   ]
  },
  {
   "cell_type": "code",
   "execution_count": 6,
   "metadata": {
    "collapsed": false
   },
   "outputs": [
    {
     "name": "stdout",
     "output_type": "stream",
     "text": [
      "segment calculations complete: 1/21 \r",
      "segment calculations complete: 2/21 \r",
      "segment calculations complete: 3/21 \r",
      "segment calculations complete: 4/21 \r",
      "segment calculations complete: 5/21 \r",
      "segment calculations complete: 6/21 \r",
      "segment calculations complete: 7/21 \r",
      "segment calculations complete: 8/21 \r",
      "segment calculations complete: 9/21 \r",
      "segment calculations complete: 10/21 \r",
      "segment calculations complete: 11/21 \r",
      "segment calculations complete: 12/21 \r",
      "segment calculations complete: 13/21 \r",
      "segment calculations complete: 14/21 \r",
      "segment calculations complete: 15/21 \r",
      "segment calculations complete: 16/21 \r",
      "segment calculations complete: 17/21 \r",
      "segment calculations complete: 18/21 \r",
      "segment calculations complete: 19/21 \r",
      "segment calculations complete: 20/21 \r",
      "segment calculations complete: 21/21 \n",
      "total calculation time: 0.007 seconds\n"
     ]
    },
    {
     "data": {
      "text/html": [
       "<div>\n",
       "<table border=\"1\" class=\"dataframe\">\n",
       "  <thead>\n",
       "    <tr style=\"text-align: right;\">\n",
       "      <th></th>\n",
       "      <th></th>\n",
       "      <th></th>\n",
       "      <th>Bmax</th>\n",
       "      <th>Bres</th>\n",
       "      <th>Bx</th>\n",
       "      <th>By</th>\n",
       "      <th>Bz</th>\n",
       "      <th>dist</th>\n",
       "    </tr>\n",
       "    <tr>\n",
       "      <th>x</th>\n",
       "      <th>y</th>\n",
       "      <th>z</th>\n",
       "      <th></th>\n",
       "      <th></th>\n",
       "      <th></th>\n",
       "      <th></th>\n",
       "      <th></th>\n",
       "      <th></th>\n",
       "    </tr>\n",
       "  </thead>\n",
       "  <tbody>\n",
       "    <tr>\n",
       "      <th>1.0</th>\n",
       "      <th>2.0</th>\n",
       "      <th>3.0</th>\n",
       "      <td>0.131758</td>\n",
       "      <td>0.131805</td>\n",
       "      <td>0.076077</td>\n",
       "      <td>0.002704</td>\n",
       "      <td>0.107599</td>\n",
       "      <td>0.000000</td>\n",
       "    </tr>\n",
       "    <tr>\n",
       "      <th>4.0</th>\n",
       "      <th>5.0</th>\n",
       "      <th>6.0</th>\n",
       "      <td>0.133567</td>\n",
       "      <td>0.133615</td>\n",
       "      <td>0.076898</td>\n",
       "      <td>0.002435</td>\n",
       "      <td>0.109241</td>\n",
       "      <td>5.196152</td>\n",
       "    </tr>\n",
       "    <tr>\n",
       "      <th>7.0</th>\n",
       "      <th>8.0</th>\n",
       "      <th>9.0</th>\n",
       "      <td>0.135409</td>\n",
       "      <td>0.135457</td>\n",
       "      <td>0.077727</td>\n",
       "      <td>0.002276</td>\n",
       "      <td>0.110914</td>\n",
       "      <td>10.392305</td>\n",
       "    </tr>\n",
       "  </tbody>\n",
       "</table>\n",
       "</div>"
      ],
      "text/plain": [
       "                 Bmax      Bres        Bx        By        Bz       dist\n",
       "x   y   z                                                               \n",
       "1.0 2.0 3.0  0.131758  0.131805  0.076077  0.002704  0.107599   0.000000\n",
       "4.0 5.0 6.0  0.133567  0.133615  0.076898  0.002435  0.109241   5.196152\n",
       "7.0 8.0 9.0  0.135409  0.135457  0.077727  0.002276  0.110914  10.392305"
      ]
     },
     "execution_count": 6,
     "metadata": {},
     "output_type": "execute_result"
    }
   ],
   "source": [
    "mod.sample([1,4,7], [2,5,8], [3,6,9])"
   ]
  },
  {
   "cell_type": "markdown",
   "metadata": {},
   "source": [
    "Easy. Notice that the 'dist' column of the returned frame now has non-zero entries. That column shows the cumulative distance along the sampled points, from first to last. If the sampled points have no relation to one another, the 'dist' column can be ignored. If the sampled points represent a path through space, then the 'dist' column represents the distance along the path for each point, where the path is assumed to consist of straight lines between the points.\n",
    "\n",
    "When sampling multiple points, the `sample` method can accept single coordinates or iterables for each argument. For example, if we wanted to sample the same points, but each with an x coordinate of 1, we could simply pass the number 1 to the x argument of `sample`, as below."
   ]
  },
  {
   "cell_type": "code",
   "execution_count": 7,
   "metadata": {
    "collapsed": false
   },
   "outputs": [
    {
     "name": "stdout",
     "output_type": "stream",
     "text": [
      "segment calculations complete: 1/21 \r",
      "segment calculations complete: 2/21 \r",
      "segment calculations complete: 3/21 \r",
      "segment calculations complete: 4/21 \r",
      "segment calculations complete: 5/21 \r",
      "segment calculations complete: 6/21 \r",
      "segment calculations complete: 7/21 \r",
      "segment calculations complete: 8/21 \r",
      "segment calculations complete: 9/21 \r",
      "segment calculations complete: 10/21 \r",
      "segment calculations complete: 11/21 \r",
      "segment calculations complete: 12/21 \r",
      "segment calculations complete: 13/21 \r",
      "segment calculations complete: 14/21 \r",
      "segment calculations complete: 15/21 \r",
      "segment calculations complete: 16/21 \r",
      "segment calculations complete: 17/21 \r",
      "segment calculations complete: 18/21 \r",
      "segment calculations complete: 19/21 \r",
      "segment calculations complete: 20/21 \r",
      "segment calculations complete: 21/21 \n",
      "total calculation time: 0.01 seconds\n"
     ]
    },
    {
     "data": {
      "text/html": [
       "<div>\n",
       "<table border=\"1\" class=\"dataframe\">\n",
       "  <thead>\n",
       "    <tr style=\"text-align: right;\">\n",
       "      <th></th>\n",
       "      <th></th>\n",
       "      <th></th>\n",
       "      <th>Bmax</th>\n",
       "      <th>Bres</th>\n",
       "      <th>Bx</th>\n",
       "      <th>By</th>\n",
       "      <th>Bz</th>\n",
       "      <th>dist</th>\n",
       "    </tr>\n",
       "    <tr>\n",
       "      <th>x</th>\n",
       "      <th>y</th>\n",
       "      <th>z</th>\n",
       "      <th></th>\n",
       "      <th></th>\n",
       "      <th></th>\n",
       "      <th></th>\n",
       "      <th></th>\n",
       "      <th></th>\n",
       "    </tr>\n",
       "  </thead>\n",
       "  <tbody>\n",
       "    <tr>\n",
       "      <th rowspan=\"3\" valign=\"top\">1.0</th>\n",
       "      <th>2.0</th>\n",
       "      <th>3.0</th>\n",
       "      <td>0.131758</td>\n",
       "      <td>0.131805</td>\n",
       "      <td>0.076077</td>\n",
       "      <td>0.002704</td>\n",
       "      <td>0.107599</td>\n",
       "      <td>0.000000</td>\n",
       "    </tr>\n",
       "    <tr>\n",
       "      <th>5.0</th>\n",
       "      <th>6.0</th>\n",
       "      <td>0.132366</td>\n",
       "      <td>0.132413</td>\n",
       "      <td>0.076098</td>\n",
       "      <td>0.002279</td>\n",
       "      <td>0.108338</td>\n",
       "      <td>4.242641</td>\n",
       "    </tr>\n",
       "    <tr>\n",
       "      <th>8.0</th>\n",
       "      <th>9.0</th>\n",
       "      <td>0.132971</td>\n",
       "      <td>0.133018</td>\n",
       "      <td>0.076106</td>\n",
       "      <td>0.002165</td>\n",
       "      <td>0.109074</td>\n",
       "      <td>8.485281</td>\n",
       "    </tr>\n",
       "  </tbody>\n",
       "</table>\n",
       "</div>"
      ],
      "text/plain": [
       "                 Bmax      Bres        Bx        By        Bz      dist\n",
       "x   y   z                                                              \n",
       "1.0 2.0 3.0  0.131758  0.131805  0.076077  0.002704  0.107599  0.000000\n",
       "    5.0 6.0  0.132366  0.132413  0.076098  0.002279  0.108338  4.242641\n",
       "    8.0 9.0  0.132971  0.133018  0.076106  0.002165  0.109074  8.485281"
      ]
     },
     "execution_count": 7,
     "metadata": {},
     "output_type": "execute_result"
    }
   ],
   "source": [
    "mod.sample(1, [2,5,8], [3,6,9])"
   ]
  },
  {
   "cell_type": "markdown",
   "metadata": {},
   "source": [
    "Any scalar arguments are applied to all sample points. We can do the same thing for the y coordinate."
   ]
  },
  {
   "cell_type": "code",
   "execution_count": 8,
   "metadata": {
    "collapsed": false
   },
   "outputs": [
    {
     "name": "stdout",
     "output_type": "stream",
     "text": [
      "segment calculations complete: 1/21 \r",
      "segment calculations complete: 2/21 \r",
      "segment calculations complete: 3/21 \r",
      "segment calculations complete: 4/21 \r",
      "segment calculations complete: 5/21 \r",
      "segment calculations complete: 6/21 \r",
      "segment calculations complete: 7/21 \r",
      "segment calculations complete: 8/21 \r",
      "segment calculations complete: 9/21 \r",
      "segment calculations complete: 10/21 \r",
      "segment calculations complete: 11/21 \r",
      "segment calculations complete: 12/21 \r",
      "segment calculations complete: 13/21 \r",
      "segment calculations complete: 14/21 \r",
      "segment calculations complete: 15/21 \r",
      "segment calculations complete: 16/21 \r",
      "segment calculations complete: 17/21 \r",
      "segment calculations complete: 18/21 \r",
      "segment calculations complete: 19/21 \r",
      "segment calculations complete: 20/21 \r",
      "segment calculations complete: 21/21 \n",
      "total calculation time: 0.015 seconds\n"
     ]
    },
    {
     "data": {
      "text/html": [
       "<div>\n",
       "<table border=\"1\" class=\"dataframe\">\n",
       "  <thead>\n",
       "    <tr style=\"text-align: right;\">\n",
       "      <th></th>\n",
       "      <th></th>\n",
       "      <th></th>\n",
       "      <th>Bmax</th>\n",
       "      <th>Bres</th>\n",
       "      <th>Bx</th>\n",
       "      <th>By</th>\n",
       "      <th>Bz</th>\n",
       "      <th>dist</th>\n",
       "    </tr>\n",
       "    <tr>\n",
       "      <th>x</th>\n",
       "      <th>y</th>\n",
       "      <th>z</th>\n",
       "      <th></th>\n",
       "      <th></th>\n",
       "      <th></th>\n",
       "      <th></th>\n",
       "      <th></th>\n",
       "      <th></th>\n",
       "    </tr>\n",
       "  </thead>\n",
       "  <tbody>\n",
       "    <tr>\n",
       "      <th rowspan=\"3\" valign=\"top\">1.0</th>\n",
       "      <th rowspan=\"3\" valign=\"top\">2.0</th>\n",
       "      <th>3.0</th>\n",
       "      <td>0.131758</td>\n",
       "      <td>0.131805</td>\n",
       "      <td>0.076077</td>\n",
       "      <td>0.002704</td>\n",
       "      <td>0.107599</td>\n",
       "      <td>0.0</td>\n",
       "    </tr>\n",
       "    <tr>\n",
       "      <th>6.0</th>\n",
       "      <td>0.131983</td>\n",
       "      <td>0.132030</td>\n",
       "      <td>0.075824</td>\n",
       "      <td>0.002409</td>\n",
       "      <td>0.108059</td>\n",
       "      <td>3.0</td>\n",
       "    </tr>\n",
       "    <tr>\n",
       "      <th>9.0</th>\n",
       "      <td>0.132204</td>\n",
       "      <td>0.132251</td>\n",
       "      <td>0.075565</td>\n",
       "      <td>0.002221</td>\n",
       "      <td>0.108514</td>\n",
       "      <td>6.0</td>\n",
       "    </tr>\n",
       "  </tbody>\n",
       "</table>\n",
       "</div>"
      ],
      "text/plain": [
       "                 Bmax      Bres        Bx        By        Bz  dist\n",
       "x   y   z                                                          \n",
       "1.0 2.0 3.0  0.131758  0.131805  0.076077  0.002704  0.107599   0.0\n",
       "        6.0  0.131983  0.132030  0.075824  0.002409  0.108059   3.0\n",
       "        9.0  0.132204  0.132251  0.075565  0.002221  0.108514   6.0"
      ]
     },
     "execution_count": 8,
     "metadata": {},
     "output_type": "execute_result"
    }
   ],
   "source": [
    "mod.sample(1, 2, [3,6,9])"
   ]
  },
  {
   "cell_type": "markdown",
   "metadata": {},
   "source": [
    "Neat!\n",
    "\n",
    "The `sample` method has one final trick. By using the keyword argument `n`, we can direct the method to linearly interpolate between the input points and sample a total number of points roughly equal to the value passed to `n`. For example, imagine we want to sample along a path represented by the points (259,897), (910,728), and (970,377). However, we want to get about 100 samples along that path. We simply pass 100 to the keyword argument `n`."
   ]
  },
  {
   "cell_type": "code",
   "execution_count": 9,
   "metadata": {
    "collapsed": false
   },
   "outputs": [
    {
     "name": "stdout",
     "output_type": "stream",
     "text": [
      "segment calculations complete: 1/21 \r",
      "segment calculations complete: 2/21 \r",
      "segment calculations complete: 3/21 \r",
      "segment calculations complete: 4/21 \r",
      "segment calculations complete: 5/21 \r",
      "segment calculations complete: 6/21 \r",
      "segment calculations complete: 7/21 \r",
      "segment calculations complete: 8/21 \r",
      "segment calculations complete: 9/21 \r",
      "segment calculations complete: 10/21 \r",
      "segment calculations complete: 11/21 \r",
      "segment calculations complete: 12/21 \r",
      "segment calculations complete: 13/21 \r",
      "segment calculations complete: 14/21 \r",
      "segment calculations complete: 15/21 \r",
      "segment calculations complete: 16/21 \r",
      "segment calculations complete: 17/21 \r",
      "segment calculations complete: 18/21 \r",
      "segment calculations complete: 19/21 \r",
      "segment calculations complete: 20/21 \r",
      "segment calculations complete: 21/21 \n",
      "total calculation time: 0.025 seconds\n",
      "102\n",
      "                           Bmax      Bres        Bx        By        Bz  \\\n",
      "x          y                                                              \n",
      "259.000000 897.000000  0.178300  0.178303  0.153176  0.017596  0.089551   \n",
      "268.863636 894.439394  0.185599  0.185601  0.159081  0.020628  0.093356   \n",
      "278.727273 891.878788  0.193276  0.193278  0.165240  0.023957  0.097355   \n",
      "288.590909 889.318182  0.201352  0.201353  0.171661  0.027609  0.101555   \n",
      "298.454545 886.757576  0.209847  0.209848  0.178350  0.031612  0.105963   \n",
      "\n",
      "                            dist  \n",
      "x          y                      \n",
      "259.000000 897.000000   0.000000  \n",
      "268.863636 894.439394  10.190585  \n",
      "278.727273 891.878788  20.381170  \n",
      "288.590909 889.318182  30.571755  \n",
      "298.454545 886.757576  40.762341  \n"
     ]
    }
   ],
   "source": [
    "points = [(259,897), (910,728), (970,377)]\n",
    "x, y = zip(*points)\n",
    "df = mod.sample(x, y, n=100)\n",
    "print len(df)\n",
    "print df.head(5)"
   ]
  },
  {
   "cell_type": "markdown",
   "metadata": {},
   "source": [
    "The samples now include many points interpolated along the path of the input coordinates, for a total of 102 points. The sampled points will always include the input points, and we can get the results for those points by indexing the frame."
   ]
  },
  {
   "cell_type": "code",
   "execution_count": 10,
   "metadata": {
    "collapsed": false
   },
   "outputs": [
    {
     "data": {
      "text/html": [
       "<div>\n",
       "<table border=\"1\" class=\"dataframe\">\n",
       "  <thead>\n",
       "    <tr style=\"text-align: right;\">\n",
       "      <th></th>\n",
       "      <th></th>\n",
       "      <th>Bmax</th>\n",
       "      <th>Bres</th>\n",
       "      <th>Bx</th>\n",
       "      <th>By</th>\n",
       "      <th>Bz</th>\n",
       "      <th>dist</th>\n",
       "    </tr>\n",
       "    <tr>\n",
       "      <th>x</th>\n",
       "      <th>y</th>\n",
       "      <th></th>\n",
       "      <th></th>\n",
       "      <th></th>\n",
       "      <th></th>\n",
       "      <th></th>\n",
       "      <th></th>\n",
       "    </tr>\n",
       "  </thead>\n",
       "  <tbody>\n",
       "    <tr>\n",
       "      <th>259.0</th>\n",
       "      <th>897.0</th>\n",
       "      <td>0.178300</td>\n",
       "      <td>0.178303</td>\n",
       "      <td>0.153176</td>\n",
       "      <td>0.017596</td>\n",
       "      <td>0.089551</td>\n",
       "      <td>0.00000</td>\n",
       "    </tr>\n",
       "    <tr>\n",
       "      <th>910.0</th>\n",
       "      <th>728.0</th>\n",
       "      <td>1.528188</td>\n",
       "      <td>1.528712</td>\n",
       "      <td>0.093798</td>\n",
       "      <td>0.943082</td>\n",
       "      <td>1.199483</td>\n",
       "      <td>672.57862</td>\n",
       "    </tr>\n",
       "    <tr>\n",
       "      <th>970.0</th>\n",
       "      <th>377.0</th>\n",
       "      <td>33.550348</td>\n",
       "      <td>34.014170</td>\n",
       "      <td>4.423154</td>\n",
       "      <td>9.526686</td>\n",
       "      <td>32.351843</td>\n",
       "      <td>1028.66990</td>\n",
       "    </tr>\n",
       "  </tbody>\n",
       "</table>\n",
       "</div>"
      ],
      "text/plain": [
       "                  Bmax       Bres        Bx        By         Bz        dist\n",
       "x     y                                                                     \n",
       "259.0 897.0   0.178300   0.178303  0.153176  0.017596   0.089551     0.00000\n",
       "910.0 728.0   1.528188   1.528712  0.093798  0.943082   1.199483   672.57862\n",
       "970.0 377.0  33.550348  34.014170  4.423154  9.526686  32.351843  1028.66990"
      ]
     },
     "execution_count": 10,
     "metadata": {},
     "output_type": "execute_result"
    }
   ],
   "source": [
    "df.loc[points]"
   ]
  },
  {
   "cell_type": "code",
   "execution_count": 11,
   "metadata": {
    "collapsed": false
   },
   "outputs": [
    {
     "data": {
      "text/plain": [
       "x      y    \n",
       "259.0  897.0     0.178300\n",
       "910.0  728.0     1.528188\n",
       "970.0  377.0    33.550348\n",
       "Name: Bmax, dtype: float64"
      ]
     },
     "execution_count": 11,
     "metadata": {},
     "output_type": "execute_result"
    }
   ],
   "source": [
    "#or we can get just the maximum fields for the input coordinates\n",
    "df.loc[points].Bmax"
   ]
  },
  {
   "cell_type": "markdown",
   "metadata": {},
   "source": [
    "Using the `n` keyword enables dense sampling along a path of points. This can be useful if the results will be used for plotting because dense sampling generates smoother curves than interpolation of `Results` object's grid."
   ]
  }
 ],
 "metadata": {
  "kernelspec": {
   "display_name": "Python 2",
   "language": "python",
   "name": "python2"
  },
  "language_info": {
   "codemirror_mode": {
    "name": "ipython",
    "version": 2
   },
   "file_extension": ".py",
   "mimetype": "text/x-python",
   "name": "python",
   "nbconvert_exporter": "python",
   "pygments_lexer": "ipython2",
   "version": "2.7.11"
  }
 },
 "nbformat": 4,
 "nbformat_minor": 0
}
