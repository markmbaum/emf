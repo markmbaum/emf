{
 "cells": [
  {
   "cell_type": "markdown",
   "metadata": {},
   "source": [
    "In this example workflow, we'll analyze a cross section containing two 345 kV circuits to predict the impact of changing one circuit to a \"delta\" configuration. We'll also look at potential field reductions through phase optimization and through adding height to the circuits. Because this is a relatively small modeling effort, we won't rely on `emf.fields` excel templates, but will build the model using only Python."
   ]
  },
  {
   "cell_type": "code",
   "execution_count": 1,
   "metadata": {
    "collapsed": true
   },
   "outputs": [],
   "source": [
    "#import emf.fields, which simulates electric and magnetic fields along\n",
    "#lines perpendicular to parallel sets of power lines\n",
    "import emf.fields as fld"
   ]
  },
  {
   "cell_type": "markdown",
   "metadata": {},
   "source": [
    "First, we have to create `emf.fields` objects containing information about the power lines. We'll have 7 `Conductor` objects representing two 3-phase circuits with a single grounded line. The `Conductor` objects will go into two different `CrossSection` objects that represent the original configuration and the configuration with one circuit switched to a delta configuration. These two `CrossSections`, basically a before-after pair, will go into a top level `SectionBook` object for comparison, plotting, and exporting."
   ]
  },
  {
   "cell_type": "code",
   "execution_count": 2,
   "metadata": {
    "collapsed": false
   },
   "outputs": [],
   "source": [
    "#create a Conductor object for the first power line in circuit 1, which will\n",
    "#consist of three 345 kV lines, all at the same height, and a single ground wire\n",
    "\n",
    "#fld.Conductor accepts up to three arguments to construct an object\n",
    "#    1) the conductor  name\n",
    "#    2) a dict of physical parameters or a properly ordered list (see the docs\n",
    "#            for Conductor object initialization)\n",
    "#    3) an existing Conductor. Paremeters that are not specified in the second\n",
    "#       argument are copied from the existing conductor\n",
    "\n",
    "#here we only pass two arguments to create the first Conductor object\n",
    "c_1a = fld.Conductor('1a', dict(\n",
    "        x=-25, #x coordinate in feet\n",
    "        y=22, #y coordinate in feet\n",
    "        subconds=1, #number of subconductors in the \"bundle\" (usually 1)\n",
    "        d_cond=1.5, #diameter of conductor in inches\n",
    "        d_bund=1.5, #diameter of conductor \"bundle\" in inches\n",
    "        V=345, #phase-phase potential in volts\n",
    "        I=600, #current in amps\n",
    "        phase=0)) #phase angle in degrees"
   ]
  },
  {
   "cell_type": "code",
   "execution_count": 3,
   "metadata": {
    "collapsed": true,
    "hidePrompt": false
   },
   "outputs": [],
   "source": [
    "#create the other two conductors in circuit 1 by specifying certain parameters\n",
    "#in the second argument, then copying all others from an existing Conductor\n",
    "c_1b = fld.Conductor('1b', dict(x=-20, phase=120), c_1a)\n",
    "c_1c = fld.Conductor('1c', dict(x=-15, phase=240), c_1b)"
   ]
  },
  {
   "cell_type": "code",
   "execution_count": 4,
   "metadata": {
    "collapsed": true
   },
   "outputs": [],
   "source": [
    "#now create the second circuit, which will be the same as the first,\n",
    "#but with x coordinates reflected about x = 0\n",
    "c_2a = fld.Conductor('2a', {'x': abs(c_1a.x)}, c_1a)\n",
    "c_2b = fld.Conductor('2b', {'x': abs(c_1b.x)}, c_1b)\n",
    "c_2c = fld.Conductor('2c', {'x': abs(c_1c.x)}, c_1c)"
   ]
  },
  {
   "cell_type": "markdown",
   "metadata": {},
   "source": [
    "Now that we've created `Conductor` objects for each of the lines in our \"before\" model and out \"after\" model, we can put the `Conductor` objects into `CrossSection` objects, which will perform the desired EMF calculations. `Conductor` objects can be added to a `CrossSection` object upon initialization, as shown below."
   ]
  },
  {
   "cell_type": "code",
   "execution_count": 5,
   "metadata": {
    "collapsed": false
   },
   "outputs": [
    {
     "name": "stdout",
     "output_type": "stream",
     "text": [
      "  CrossSection object\n",
      "\n",
      "    sheet:                         before\n",
      "    parent SectionBook:            None\n",
      "    group:                         Delta Test\n",
      "    title:                         Before Delta Implementation\n",
      "    soil resistivity (?):          100.0\n",
      "    max distance from center (ft): 50.0\n",
      "    step size (ft):                0.5\n",
      "    sample height (ft):            3.0\n",
      "    left ROW edge (ft):            -40.0\n",
      "    right ROW edge (ft):           40.0\n",
      "\n",
      "    conductor information (6 Conductors)\n",
      "      names:                 '1a', '1b', '1c', '2a', '2b', '2c'\n",
      "      frequencies (Hz):      60.0, 60.0, 60.0, 60.0, 60.0, 60.0\n",
      "      x coordinates (ft):    -25.0, -20.0, -15.0, 25.0, 20.0, 15.0\n",
      "      y coordinates (ft):    22.0, 22.0, 22.0, 22.0, 22.0, 22.0\n",
      "      subconductors:         1.0, 1.0, 1.0, 1.0, 1.0, 1.0\n",
      "      diameters (in):        1.5, 1.5, 1.5, 1.5, 1.5, 1.5\n",
      "      bundle diameters (in): 1.5, 1.5, 1.5, 1.5, 1.5, 1.5\n",
      "      voltages (V):          345.0, 345.0, 345.0, 345.0, 345.0, 345.0\n",
      "      currents (A):          600.0, 600.0, 600.0, 600.0, 600.0, 600.0\n",
      "      phase angles (deg):    0.0, 120.0, 240.0, 0.0, 120.0, 240.0\n",
      "\n",
      "    fields sample (see CrossSection.fields for all EMF results)\n",
      "                  Bmax      Emax\n",
      "      -50.0  22.383021  1.569916\n",
      "      -40.0  40.542720  2.539506\n",
      "       40.0  40.542720  2.539506\n",
      "       50.0  22.383021  1.569916\n"
     ]
    }
   ],
   "source": [
    "#now the first CrossSection object can be created, containing the Conductor\n",
    "#objects created above\n",
    "\n",
    "#like the Conductor constructor, the CrossSection constructor requires the first\n",
    "#argument to be the \"sheet\" or name of the new object. The second arg is simply\n",
    "#a list of the Conductor objects to copy into the CrossSection\n",
    "before = fld.CrossSection('before', [c_1a, c_1b, c_1c, c_2a, c_2b, c_2c])\n",
    "#set some identification variables\n",
    "before.group = 'Delta Test'\n",
    "before.title = 'Before Delta Implementation'\n",
    "#and set the sampling variables, which determine where emf values are calculated\n",
    "before.max_dist = 50 #sample to 50 ft from the center of the xs\n",
    "before.step = 0.5    #sample every half foot along the xs\n",
    "before.lROW = -40    #left edge of power line right of way (ROW)\n",
    "before.rROW = 40     #right ROW edge\n",
    "\n",
    "#inspect the CrossSection by printing it\n",
    "print before"
   ]
  },
  {
   "cell_type": "code",
   "execution_count": 6,
   "metadata": {
    "collapsed": false
   },
   "outputs": [
    {
     "name": "stdout",
     "output_type": "stream",
     "text": [
      "(True, None, None)\n"
     ]
    }
   ],
   "source": [
    "#check that the CrossSection is complete, meaning all the necessary variables in\n",
    "#its Conductor objects are set\n",
    "print before.complete"
   ]
  },
  {
   "cell_type": "code",
   "execution_count": 7,
   "metadata": {
    "collapsed": false
   },
   "outputs": [],
   "source": [
    "#all set, now we'll copy and edit the \"before\" CrossSection to create the\n",
    "#\"after\" version with the delta configuration\n",
    "after = before.copy()\n",
    "#Conductors in a CrossSection can be accessed by their tag strings\n",
    "after['2b'].y += 5\n",
    "after['2c'].x = after['2a'].x\n",
    "after['2c'].y = after['2a'].y + 10.0\n",
    "#edit the after version's identification variables\n",
    "after.sheet = 'after'\n",
    "after.title = 'After Delta Implementation'"
   ]
  },
  {
   "cell_type": "markdown",
   "metadata": {},
   "source": [
    "Finally, before looking at the numbers, we put the `CrossSection` objects into a top level `SectionBook` object, which is essential for comparing the `CrossSections`. The `CrossSection` objects can be added to a `SectionBook` object upon its initialization."
   ]
  },
  {
   "cell_type": "code",
   "execution_count": 8,
   "metadata": {
    "collapsed": false
   },
   "outputs": [],
   "source": [
    "sb = fld.SectionBook('delta-test', [before, after])"
   ]
  },
  {
   "cell_type": "markdown",
   "metadata": {},
   "source": [
    "But wait! We forgot the ground wire in circuit 1! Adding a `Conductor` to a `CrossSection` is easy with `add_conductor()`."
   ]
  },
  {
   "cell_type": "code",
   "execution_count": 9,
   "metadata": {
    "collapsed": false
   },
   "outputs": [],
   "source": [
    "#create the grounded line by passing a list of parameters that correspond to:\n",
    "# [x, y, subconds, d_cond, d_bund, V, I, phase]\n",
    "ground = fld.Conductor('1g', [-17.5, 27.5, 1, 1, 1, 0, 0, 0])\n",
    "#                                                   ^ zero voltage (grounded)\n",
    "\n",
    "#add the ground line to the before and after xcs, which can be accessed\n",
    "#by keying the SectionBook like a dict, using a CrossSection's\n",
    "#sheet string as the key\n",
    "sb['before'].add_conductor(ground)\n",
    "sb['after'].add_conductor(ground)"
   ]
  },
  {
   "cell_type": "markdown",
   "metadata": {},
   "source": [
    "On to the results... EMF calculations are performed by a `CrossSection` only when they need to be. If the `fields` attribute of a `CrossSection` is accessed and the fields haven't been calculated yet, the `CrossSection` will automatically calculate and store them. Then, if any of the relevant attributes of the `CrossSection` object's `Conductor`s are changed, even if EMF have already been calculated, the `CrossSection` will wipe the stored results and wait to recalculate EMF whenever its `fields` attribute is next accessed.\n",
    "\n",
    "For example, if we access `fields` from the `before` `CrossSection`, it will calculate and store a DataFrame of EMF results, then return the DataFrame."
   ]
  },
  {
   "cell_type": "code",
   "execution_count": 10,
   "metadata": {
    "collapsed": false
   },
   "outputs": [
    {
     "name": "stdout",
     "output_type": "stream",
     "text": [
      "            Bmax      Bprod         Bx        By      Emax     Eprod  \\\n",
      "-50.0  22.383021  22.394635  21.682692  5.601831  1.683781  1.683851   \n",
      "-49.5  23.028616  23.041231  22.397989  5.406329  1.727492  1.727565   \n",
      "-49.0  23.696805  23.710513  23.136263  5.186693  1.772186  1.772260   \n",
      "\n",
      "             Ex        Ey  \n",
      "-50.0  0.256559  1.664191  \n",
      "-49.5  0.262274  1.707540  \n",
      "-49.0  0.267889  1.751896  \n"
     ]
    }
   ],
   "source": [
    "#the fields attribute leads to a Pandas DataFrame\n",
    "print sb['before'].fields.head(3)"
   ]
  },
  {
   "cell_type": "markdown",
   "metadata": {},
   "source": [
    "Now if we change information in one of the `Conductor` objects in the `CrossSection`, the DataFrame is cleared and will be repopulated the next time it's needed."
   ]
  },
  {
   "cell_type": "code",
   "execution_count": 11,
   "metadata": {
    "collapsed": false
   },
   "outputs": [
    {
     "name": "stdout",
     "output_type": "stream",
     "text": [
      "             Bmax       Bprod          Bx          By       Emax      Eprod  \\\n",
      "-50.0  184.338265  184.975014   98.865314  156.337474  10.003151  10.003167   \n",
      "-49.5  186.573209  187.251314  101.277400  157.499025  10.249154  10.249169   \n",
      "-49.0  188.852940  189.575325  103.766759  158.654541  10.501329  10.501345   \n",
      "\n",
      "             Ex         Ey  \n",
      "-50.0  1.444289   9.898352  \n",
      "-49.5  1.480245  10.141713  \n",
      "-49.0  1.516345  10.391291  \n"
     ]
    }
   ],
   "source": [
    "#Conductors can also be accessed by the order in which they were\n",
    "#added to the CrossSection\n",
    "sb['before'].i[0].V += 1000 #boost the Voltage!\n",
    "sb['before']['1b'].I += 1000 #boost the Current!\n",
    "print sb['before'].fields.head(3)"
   ]
  },
  {
   "cell_type": "markdown",
   "metadata": {},
   "source": [
    "The fields were automatically recalculated when the `fields` property was accessed because we changed some of the variables in it's `Conductor` objects. We have some seriously high fields now... Let's change them back and make sure the fields will update again."
   ]
  },
  {
   "cell_type": "code",
   "execution_count": 12,
   "metadata": {
    "collapsed": false
   },
   "outputs": [
    {
     "name": "stdout",
     "output_type": "stream",
     "text": [
      "            Bmax      Bprod         Bx        By      Emax     Eprod  \\\n",
      "-50.0  22.383021  22.394635  21.682692  5.601831  1.683781  1.683851   \n",
      "-49.5  23.028616  23.041231  22.397989  5.406329  1.727492  1.727565   \n",
      "-49.0  23.696805  23.710513  23.136263  5.186693  1.772186  1.772260   \n",
      "\n",
      "             Ex        Ey  \n",
      "-50.0  0.256559  1.664191  \n",
      "-49.5  0.262274  1.707540  \n",
      "-49.0  0.267889  1.751896  \n"
     ]
    }
   ],
   "source": [
    "sb['before'].i[0].V -= 1000\n",
    "sb['before']['1b'].I -= 1000\n",
    "print sb['before'].fields.head(3)"
   ]
  },
  {
   "cell_type": "markdown",
   "metadata": {},
   "source": [
    "Back to normal.\n",
    "\n",
    "Now on to the analysis.\n",
    "\n",
    "Let's take a look at how the magnetic fields compare between our before and after `CrossSections` by plotting them as a group. Groups of `CrossSection` objects within a `SectionBook` are defined by the `CrossSection` `tag` attributes. `CrossSection` objects with identical tags are automatically grouped by the `SectionBook`. That's why we set those `tag` attributes to the same thing when the `CrossSection` objects were created (their tags are both `'Delta Test'`)."
   ]
  },
  {
   "cell_type": "code",
   "execution_count": 13,
   "metadata": {
    "collapsed": false
   },
   "outputs": [],
   "source": [
    "#the return_figs kw must be set to True, otherwise figures are closed\n",
    "#automatically to avoid matplotlib memory warnings\n",
    "#also, the E kw is set to False so that we only get magnetic field plots\n",
    "figs = fld.plot_groups(sb, return_figs=True, E=False)\n",
    "fld.show()"
   ]
  },
  {
   "cell_type": "markdown",
   "metadata": {},
   "source": [
    "It's clear from the plot that switching to a \"delta\" configuration reduces fields throughout the ROW. We can inspect the actual values of electric and magnetic fields at the ROW edges, at a glance, with the SectionBook's `ROW_edge_max` property."
   ]
  },
  {
   "cell_type": "code",
   "execution_count": 14,
   "metadata": {
    "collapsed": false
   },
   "outputs": [
    {
     "name": "stdout",
     "output_type": "stream",
     "text": [
      "            Bmaxl      Bmaxr     Emaxl     Emaxr\n",
      "before  40.542720  40.542720  2.685421  2.573409\n",
      "after   39.829126  35.332244  2.640528  2.167896\n"
     ]
    }
   ],
   "source": [
    "print sb.ROW_edge_max"
   ]
  },
  {
   "cell_type": "markdown",
   "metadata": {},
   "source": [
    "Fields are significantly reduced on the right side of the ROW, and slightly reduced on the left side because it's farther from the second circuit. If we want to try and reduce fields even further, we can see if it's possible to reduce them by swapping the positions of the phases in each circuit."
   ]
  },
  {
   "cell_type": "code",
   "execution_count": 15,
   "metadata": {
    "collapsed": false
   },
   "outputs": [],
   "source": [
    "res, opt = fld.optimize_phasing(sb['after'], 'all')\n",
    "\n",
    "#look at whether a phasing configuration yields a significant reduction\n",
    "#in magnetic fields\n",
    "fld.plot_groups_at_ROW(opt, return_figs=True, E=False)\n",
    "fld.show()"
   ]
  },
  {
   "cell_type": "markdown",
   "metadata": {},
   "source": [
    "Looks like phase optimization of the \"after\" CrossSection wouldn't reduce the fields because the circuits are already in one of potentially many optimal arrangements. Let's just check the numbers."
   ]
  },
  {
   "cell_type": "code",
   "execution_count": 16,
   "metadata": {
    "collapsed": false
   },
   "outputs": [
    {
     "name": "stdout",
     "output_type": "stream",
     "text": [
      "                              Bmaxl      Bmaxr     Emaxl     Emaxr\n",
      "after (original)          39.829126  35.332244  2.640528  2.167896\n",
      "Optimized for Bmax left   39.380491  39.247289  2.648159  2.106551\n",
      "Optimized for Bmax right  39.829126  35.332244  2.640528  2.167896\n",
      "Optimized for Emax left   39.829126  35.332244  2.640528  2.167896\n",
      "Optimized for Emax right  39.380491  39.247289  2.648159  2.106551\n"
     ]
    }
   ],
   "source": [
    "print opt.ROW_edge_max"
   ]
  },
  {
   "cell_type": "markdown",
   "metadata": {},
   "source": [
    "As a last resort, we're asked how much higher we would have to raise the second circuit, the \"delta\", to get magnetic fields at the right ROW edge down to 30 mG. We can use `fld.target_fields()`."
   ]
  },
  {
   "cell_type": "code",
   "execution_count": 17,
   "metadata": {
    "collapsed": false
   },
   "outputs": [
    {
     "name": "stdout",
     "output_type": "stream",
     "text": [
      "(None, 2.209329977631569, None, None)\n"
     ]
    }
   ],
   "source": [
    "h, adj = fld.target_fields(sb['after'], ['2a', '2b', '2c'], 0, 30, 0, 0)\n",
    "print h\n",
    "figs = fld.plot_groups(adj, return_figs=True, E=False)\n",
    "fld.show()"
   ]
  },
  {
   "cell_type": "markdown",
   "metadata": {},
   "source": [
    "We would only have to raise circuit 2 an extra 2.2 feet to get predicted magnetic field values at the right ROW edge down to 30 mG. That's good info. We can export the original modeling results and the height adjusted results to excel files for reference, and be done with it."
   ]
  },
  {
   "cell_type": "code",
   "execution_count": 18,
   "metadata": {
    "collapsed": false
   },
   "outputs": [
    {
     "name": "stdout",
     "output_type": "stream",
     "text": [
      "Full SectionBook results written to: delta-test-all_results.xlsx\n",
      "Maximum fields at ROW edges written to: delta-test-ROW_edge_results.csv\n",
      "Optimal phasing results written to: after_height_adjustments.xlsx\n"
     ]
    }
   ],
   "source": [
    "sb.export()\n",
    "h, adj = fld.target_fields(sb['after'], ['2a', '2b', '2c'],\n",
    "                            0, 30, 0, 0, save=True)"
   ]
  },
  {
   "cell_type": "code",
   "execution_count": null,
   "metadata": {
    "collapsed": true
   },
   "outputs": [],
   "source": []
  }
 ],
 "metadata": {
  "kernelspec": {
   "display_name": "Python 2",
   "language": "python",
   "name": "python2"
  },
  "language_info": {
   "codemirror_mode": {
    "name": "ipython",
    "version": 2
   },
   "file_extension": ".py",
   "mimetype": "text/x-python",
   "name": "python",
   "nbconvert_exporter": "python",
   "pygments_lexer": "ipython2",
   "version": "2.7.11"
  }
 },
 "nbformat": 4,
 "nbformat_minor": 0
}
